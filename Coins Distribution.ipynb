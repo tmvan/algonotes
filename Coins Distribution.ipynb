{
 "cells": [
  {
   "cell_type": "code",
   "execution_count": 14,
   "metadata": {},
   "outputs": [
    {
     "data": {
      "text/plain": [
       "(<__main__.TreeNode at 0x1f5e454a708>, 6)"
      ]
     },
     "execution_count": 14,
     "metadata": {},
     "output_type": "execute_result"
    }
   ],
   "source": [
    "class TreeNode:\n",
    "    def __init__(self, x):\n",
    "        self.val = x\n",
    "        self.left = None\n",
    "        self.right = None\n",
    "\n",
    "class Solution:\n",
    "    def maxCoinNode(self, root: TreeNode):\n",
    "        maxCoinNode = root\n",
    "        totalCoin = root.val\n",
    "        \n",
    "        if root.left is not None:\n",
    "            maxCoinNodeLeft, totalCoinLeft = self.maxCoinNode(root.left)\n",
    "            totalCoin += totalCoinLeft\n",
    "            \n",
    "            if maxCoinNode.val < maxCoinNodeLeft.val:\n",
    "                maxCoinNode = maxCoinNodeLeft\n",
    "        \n",
    "        if root.right is not None:\n",
    "            maxCoinNodeRight, totalCoinRight = self.maxCoinNode(root.right)\n",
    "            totalCoin += totalCoinRight\n",
    "        \n",
    "            if maxCoinNode.val < maxCoinNodeRight.val:\n",
    "                maxCoinNode = maxCoinNodeRight\n",
    "            \n",
    "        return (maxCoinNode, totalCoin)\n",
    "        \n",
    "    def distributeCoinsHelper(self, root: TreeNode, parent: TreeNode, )\n",
    "        \n",
    "    def distributeCoins(self, root: TreeNode) -> int:\n",
    "        maxNode = self.maxCoinNode(root)\n",
    "        \n",
    "        \n",
    "\n",
    "tree = TreeNode(2)\n",
    "tree.left = TreeNode(1)\n",
    "tree.right = TreeNode(3)\n",
    "Solution().maxCoinNode(tree)"
   ]
  },
  {
   "cell_type": "code",
   "execution_count": 53,
   "metadata": {},
   "outputs": [
    {
     "name": "stdout",
     "output_type": "stream",
     "text": [
      "requiredCoin= 1 (rc1= 0 ,rc2= 0 )\n",
      "requiredCoin= 1 (rc1= 0 ,rc2= 0 )\n",
      "requiredCoin= 2 (rc1= 1 ,rc2= 1 )\n",
      "requiredCoin= -1 (rc1= 0 ,rc2= 0 )\n",
      "requiredCoin= 0 (rc1= -1 ,rc2= 0 )\n",
      "requiredCoin= 1 (rc1= 0 ,rc2= 0 )\n",
      "requiredCoin= 1 (rc1= 0 ,rc2= 0 )\n",
      "requiredCoin= 1 (rc1= 0 ,rc2= 0 )\n",
      "requiredCoin= -1 (rc1= 1 ,rc2= 1 )\n",
      "requiredCoin= -1 (rc1= 1 ,rc2= -1 )\n",
      "requiredCoin= 0 (rc1= 2 ,rc2= -1 )\n"
     ]
    },
    {
     "data": {
      "text/plain": [
       "10"
      ]
     },
     "execution_count": 53,
     "metadata": {},
     "output_type": "execute_result"
    }
   ],
   "source": [
    "def helper(root, memo):\n",
    "    rc1 = 0\n",
    "    rc2 = 0\n",
    "    \n",
    "    if root[1] is not None:\n",
    "        rc1 = helper(root[1], memo)\n",
    "    \n",
    "    if root[2] is not None:\n",
    "        rc2 = helper(root[2], memo)\n",
    "    \n",
    "    requiredCoin = 1 - (root[0] - (rc1 + rc2))\n",
    "    \n",
    "    memo[0] += abs(rc1) + abs(rc2)\n",
    "    \n",
    "    return requiredCoin\n",
    "\n",
    "# root: [val, left, right]\n",
    "def distribute(root):\n",
    "    memo = [0]\n",
    "    helper(root, memo)\n",
    "    return memo[0]\n",
    "    \n",
    "    \n",
    "#root = [2, [1, None, [0, None, None]], [1, [0, None, None], None]]\n",
    "#root = [2, [0, None, None], [0, None, None]]\n",
    "root = [2, \\\n",
    "        [1, [0, None, None], [0, None, None]], \\\n",
    "        [2, [0, [0, [2, None, None], None], None], [4, [0, None, None], [0, None, None]]]]\n",
    "distribute(root)"
   ]
  }
 ],
 "metadata": {
  "kernelspec": {
   "display_name": "Python 3",
   "language": "python",
   "name": "python3"
  },
  "language_info": {
   "codemirror_mode": {
    "name": "ipython",
    "version": 3
   },
   "file_extension": ".py",
   "mimetype": "text/x-python",
   "name": "python",
   "nbconvert_exporter": "python",
   "pygments_lexer": "ipython3",
   "version": "3.7.4"
  }
 },
 "nbformat": 4,
 "nbformat_minor": 2
}
