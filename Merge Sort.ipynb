{
 "cells": [
  {
   "cell_type": "code",
   "execution_count": 21,
   "metadata": {},
   "outputs": [
    {
     "name": "stdout",
     "output_type": "stream",
     "text": [
      "[2, 5, 7, 3, 4, 3, 2, 3, 5, 1, 7, 1, 8, 7, 7, 4, 5, 6, 2, 3, 4, 5, 2]\n"
     ]
    },
    {
     "data": {
      "text/plain": [
       "[1, 1, 2, 2, 2, 2, 3, 3, 3, 3, 4, 4, 4, 5, 5, 5, 5, 6, 7, 7, 7, 7, 8]"
      ]
     },
     "execution_count": 21,
     "metadata": {},
     "output_type": "execute_result"
    }
   ],
   "source": [
    "def merge(a, b):\n",
    "    lena = len(a)\n",
    "    lenb = len(b)\n",
    "    i = 0\n",
    "    j = 0\n",
    "    r = []\n",
    "    \n",
    "    while i < lena and j < lenb:\n",
    "        if a[i] < b[j]:\n",
    "            r.append(a[i])\n",
    "            i += 1\n",
    "        else:\n",
    "            r.append(b[j])\n",
    "            j += 1\n",
    "    \n",
    "    if i < lena:\n",
    "        r.extend(a[i:])\n",
    "    elif j < lenb:\n",
    "        r.extend(b[j:])\n",
    "        \n",
    "    return r\n",
    "\n",
    "def sort(a):\n",
    "    lena = len(a)\n",
    "    \n",
    "    if lena == 1:\n",
    "        return a\n",
    "    \n",
    "    if lena == 2:\n",
    "        if a[0] > a[1]:\n",
    "            return [a[1], a[0]]\n",
    "        else:\n",
    "            return a\n",
    "    \n",
    "    m = int(lena / 2)\n",
    "    a1 = sort(a[:m])\n",
    "    a2 = sort(a[m:])\n",
    "    \n",
    "    return merge(a1, a2)\n",
    "\n",
    "a = [2, 5, 7, 3, 4, 3, 2, 3, 5, 1, 7, 1, 8, 7, 7, 4, 5, 6, 2, 3, 4, 5, 2]\n",
    "\n",
    "print(a)\n",
    "\n",
    "sort(a)"
   ]
  },
  {
   "cell_type": "code",
   "execution_count": 58,
   "metadata": {},
   "outputs": [
    {
     "data": {
      "text/plain": [
       "[1, 1, 2, 2, 2, 2, 3, 3, 3, 3, 4, 4, 4, 5, 5, 5, 5, 6, 7, 7, 7, 7, 8]"
      ]
     },
     "execution_count": 58,
     "metadata": {},
     "output_type": "execute_result"
    }
   ],
   "source": [
    "def merge(arr, i1, l1, i2, l2):\n",
    "    a, j1 = arr[i1:(i1 + l1)], 0\n",
    "    b, j2 = arr[i2:(i2 + l2)], 0\n",
    "    i = 0\n",
    "    \n",
    "    while j1 < l1 and j2 < l2:\n",
    "        if i < l1:\n",
    "            k = i1 + i\n",
    "        else:\n",
    "            k = i2 + (i - l1)\n",
    "        \n",
    "        if a[j1] < b[j2]:\n",
    "            arr[k] = a[j1]\n",
    "            j1 += 1\n",
    "        else:\n",
    "            arr[k] = b[j2]\n",
    "            j2 += 1\n",
    "        \n",
    "        i += 1\n",
    "        \n",
    "    if j1 < l1:\n",
    "        for k in range(j1, l1):\n",
    "            arr[i2 + (i - l1)] = a[k]\n",
    "            i += 1\n",
    "    elif j2 < l2:\n",
    "        for k in range(j2, l2):\n",
    "            arr[i2 + (i - l1)] = b[k]\n",
    "            i += 1\n",
    "\n",
    "def _sort(a, i, l):\n",
    "    if l == 2:\n",
    "        if a[i] > a[i + 1]:\n",
    "            tmp = a[i]\n",
    "            a[i] = a[i + 1]\n",
    "            a[i + 1] = tmp\n",
    "        \n",
    "    elif l > 2:\n",
    "        m = int(l / 2)\n",
    "        _sort(a, i, m)\n",
    "        _sort(a, i + m, l - m)\n",
    "        merge(a, i, m, i + m, l - m)\n",
    "\n",
    "def sort(a):\n",
    "    _sort(a, 0, len(a))\n",
    "\n",
    "a = [2, 5, 7, 3, 4, 3, 2, 3, 5, 1, 7, 1, 8, 7, 7, 4, 5, 6, 2, 3, 4, 5, 2]\n",
    "sort(a)\n",
    "a"
   ]
  }
 ],
 "metadata": {
  "kernelspec": {
   "display_name": "Python 3",
   "language": "python",
   "name": "python3"
  },
  "language_info": {
   "codemirror_mode": {
    "name": "ipython",
    "version": 3
   },
   "file_extension": ".py",
   "mimetype": "text/x-python",
   "name": "python",
   "nbconvert_exporter": "python",
   "pygments_lexer": "ipython3",
   "version": "3.7.4"
  }
 },
 "nbformat": 4,
 "nbformat_minor": 2
}
