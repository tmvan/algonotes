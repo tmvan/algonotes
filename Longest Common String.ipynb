{
 "cells": [
  {
   "cell_type": "markdown",
   "metadata": {},
   "source": [
    "# Longest Common String"
   ]
  },
  {
   "cell_type": "markdown",
   "metadata": {},
   "source": [
    "The problem:\n",
    "- Given 2 strings, find the string is substring of both given strings."
   ]
  },
  {
   "cell_type": "markdown",
   "metadata": {},
   "source": [
    "## Recursive"
   ]
  },
  {
   "cell_type": "code",
   "execution_count": null,
   "metadata": {
    "slideshow": {
     "slide_type": "-"
    }
   },
   "outputs": [],
   "source": [
    "def lcs(s1, s2):\n",
    "    if len(s1) == 0 or len(s2) == 0:\n",
    "        return \"\"\n",
    "    if s1[0] == s2[0]:\n",
    "        return s1[0] + lcs(s1[1:], s2[1:])\n",
    "    \n",
    "    r1 = lcs(s1[1:], s2)\n",
    "    r2 = lcs(s1, s2[1:])\n",
    "    \n",
    "    if len(r1) > len(r2):\n",
    "        return r1\n",
    "    else:\n",
    "        return r2\n",
    "\n",
    "#lcs('abaab', 'abacb')\n",
    "lcs('the quick brown fox jumps over the lazy dog', 'the quick fox runs to the dog')\n",
    "#lcs('the quick brown fox jumps over the lazy dog', 'the quick fox jumps over the cute dog')"
   ]
  },
  {
   "cell_type": "markdown",
   "metadata": {},
   "source": [
    "## Improved recursive"
   ]
  },
  {
   "cell_type": "code",
   "execution_count": null,
   "metadata": {
    "scrolled": true
   },
   "outputs": [],
   "source": [
    "def lcs_f(s1, s2, i1=0, i2=0):\n",
    "    if len(s1) == i1 or len(s2) == i2:\n",
    "        return \"\"\n",
    "    if s1[i1] == s2[i2]:\n",
    "        return s1[i1] + lcs_f(s1, s2, i1 + 1, i2 + 1)\n",
    "    \n",
    "    r1 = lcs_f(s1, s2, i1 + 1, i2)\n",
    "    r2 = lcs_f(s1, s2, i1, i2 + 1)\n",
    "    \n",
    "    if len(r1) > len(r2):\n",
    "        return r1\n",
    "    else:\n",
    "        return r2\n",
    "\n",
    "lcs_f('the quick brown fox jumps over the lazy dog', 'the quick fox runs to the dog')\n",
    "#lcs_f('the quick brown fox jumps over the lazy dog', 'the quick fox runs to the dog')    \n",
    "#lcs_f('the quick brown fox jumps over the lazy dog', 'the quick fox jumps over the cute dog')"
   ]
  },
  {
   "cell_type": "markdown",
   "metadata": {},
   "source": [
    "## Dynamic programming"
   ]
  },
  {
   "cell_type": "code",
   "execution_count": null,
   "metadata": {},
   "outputs": [],
   "source": [
    "def lcs_dp(s1, s2, i1=0, i2=0, memo=None):\n",
    "    if len(s1) == i1 or len(s2) == i2:\n",
    "        return \"\"\n",
    "    if memo is None:\n",
    "        memo = [[None for i in range(len(s2))] for i in range(len(s1))]\n",
    "    if memo[i1][i2] is not None:\n",
    "        return memo[i1][i2]\n",
    "    if s1[i1] == s2[i2]:\n",
    "        memo[i1][i2] = s1[i1] + lcs_dp(s1, s2, i1 + 1, i2 + 1, memo)\n",
    "        return memo[i1][i2]\n",
    "    \n",
    "    r1 = lcs_dp(s1, s2, i1 + 1, i2, memo)\n",
    "    r2 = lcs_dp(s1, s2, i1, i2 + 1, memo)\n",
    "    \n",
    "    if len(r1) > len(r2):\n",
    "        memo[i1][i2] = r1\n",
    "    else:\n",
    "        memo[i1][i2] = r2\n",
    "    return memo[i1][i2]\n",
    "\n",
    "lcs_dp('the quick brown fox jumps over the lazy dog', 'the quick fox jumps over the cute dog')"
   ]
  }
 ],
 "metadata": {
  "celltoolbar": "Raw Cell Format",
  "kernelspec": {
   "display_name": "Python 3",
   "language": "python",
   "name": "python3"
  },
  "language_info": {
   "codemirror_mode": {
    "name": "ipython",
    "version": 3
   },
   "file_extension": ".py",
   "mimetype": "text/x-python",
   "name": "python",
   "nbconvert_exporter": "python",
   "pygments_lexer": "ipython3",
   "version": "3.7.4"
  }
 },
 "nbformat": 4,
 "nbformat_minor": 2
}
