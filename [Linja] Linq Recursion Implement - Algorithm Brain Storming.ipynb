{
 "cells": [
  {
   "cell_type": "code",
   "execution_count": 84,
   "metadata": {},
   "outputs": [
    {
     "name": "stdout",
     "output_type": "stream",
     "text": [
      "i = 1 : [5, 3, 4, 1]\n",
      "i = 2 : [5, 3, 4, 1, 2]\n",
      "i = 3 : [5, 3, 4, 1, 2, 3]\n",
      "i = 4 : [5, 3, 4, 1, 2, 3, 4, 4]\n",
      "i = 5 : [5, 3, 4, 1, 2, 3, 4, 5, 5, 4, 5]\n",
      "i = 6 : [5, 3, 4, 1, 2, 3, 4, 5, 6, 5, 6, 4, 5, 6, 6]\n",
      "i = 7 : [5, 3, 4, 1, 2, 3, 4, 5, 6, 7, 5, 6, 7, 4, 5, 6, 7, 6, 7]\n",
      "i = 8 : [5, 3, 4, 1, 2, 3, 4, 5, 6, 7, 8, 5, 6, 7, 8, 4, 5, 6, 7, 8, 6, 7, 8]\n",
      "i = 9 : [5, 3, 4, 1, 2, 3, 4, 5, 6, 7, 8, 9, 5, 6, 7, 8, 9, 4, 5, 6, 7, 8, 9, 6, 7, 8, 9]\n"
     ]
    }
   ],
   "source": [
    "def linq(a, m):\n",
    "    t = []\n",
    "    \n",
    "    def collect(n, m):\n",
    "        if n < m:\n",
    "            collect(n + 1, m)\n",
    "            t.insert(0, n + 1)\n",
    "            \n",
    "    \n",
    "    for i in a:\n",
    "        collect(i, m)\n",
    "        \n",
    "    return a + t\n",
    "    \n",
    "a = [5, 3, 4, 1]\n",
    "\n",
    "for i in range(1, 10):\n",
    "    print(\"i =\", i, \":\", linq(a, i))"
   ]
  }
 ],
 "metadata": {
  "kernelspec": {
   "display_name": "Python 3",
   "language": "python",
   "name": "python3"
  },
  "language_info": {
   "codemirror_mode": {
    "name": "ipython",
    "version": 3
   },
   "file_extension": ".py",
   "mimetype": "text/x-python",
   "name": "python",
   "nbconvert_exporter": "python",
   "pygments_lexer": "ipython3",
   "version": "3.7.4"
  }
 },
 "nbformat": 4,
 "nbformat_minor": 2
}
