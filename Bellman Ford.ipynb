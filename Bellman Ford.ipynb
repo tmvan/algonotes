{
 "cells": [
  {
   "cell_type": "code",
   "execution_count": 2,
   "metadata": {
    "scrolled": true
   },
   "outputs": [
    {
     "data": {
      "text/plain": [
       "([0, 1, 2, 3, 4], [0, 2, 4, 4, 10], [None, 0, 0, 1, 1])"
      ]
     },
     "execution_count": 2,
     "metadata": {},
     "output_type": "execute_result"
    }
   ],
   "source": [
    "def findShortestPath(edges, s):\n",
    "    # collect vertices\n",
    "    vertices = list(set([v for i in edges for v in i[:2]]))\n",
    "    \n",
    "    # initialize graph\n",
    "    distance = [0 if v == s else -1 for v in vertices]\n",
    "    predecessor = [None for v in vertices]\n",
    "        \n",
    "    # relax edges repeatedly\n",
    "    for i in range(len(vertices) - 1):\n",
    "        end = True\n",
    "        \n",
    "        for edge in edges:\n",
    "            u = edge[0]\n",
    "            v = edge[1]\n",
    "            w = edge[2]\n",
    "            \n",
    "            if distance[v] == -1 or distance[u] + w < distance[v]:\n",
    "                distance[v] = distance[u] + w\n",
    "                predecessor[v] = u\n",
    "                end = False\n",
    "            \n",
    "        if end:\n",
    "            break\n",
    "    \n",
    "    return vertices, distance, predecessor\n",
    "\n",
    "edges = [[0, 1, 2],\\\n",
    "         [0, 2, 4],\\\n",
    "         [0, 3, 6],\\\n",
    "         [1, 4, 8],\\\n",
    "         [1, 3, 2],\\\n",
    "         [2, 4, 8],\\\n",
    "         [3, 4, 9]]\n",
    "\n",
    "findShortestPath(edges, 0)"
   ]
  }
 ],
 "metadata": {
  "kernelspec": {
   "display_name": "Python 3",
   "language": "python",
   "name": "python3"
  },
  "language_info": {
   "codemirror_mode": {
    "name": "ipython",
    "version": 3
   },
   "file_extension": ".py",
   "mimetype": "text/x-python",
   "name": "python",
   "nbconvert_exporter": "python",
   "pygments_lexer": "ipython3",
   "version": "3.7.4"
  }
 },
 "nbformat": 4,
 "nbformat_minor": 2
}
