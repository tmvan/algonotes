{
 "cells": [
  {
   "cell_type": "code",
   "execution_count": 8,
   "metadata": {},
   "outputs": [
    {
     "data": {
      "text/plain": [
       "1"
      ]
     },
     "execution_count": 8,
     "metadata": {},
     "output_type": "execute_result"
    }
   ],
   "source": [
    "def countUniqueDigits(n: int):\n",
    "    if n == 0:\n",
    "        return 1\n",
    "    \n",
    "    s = 0\n",
    "    \n",
    "    for i in range(n):\n",
    "        if i == 0:\n",
    "            s += 10\n",
    "        else:\n",
    "            a = 9\n",
    "            \n",
    "            for j in range(i):\n",
    "                a *= 9 - j\n",
    "                \n",
    "            s += a\n",
    "        \n",
    "    return s\n",
    "    \n",
    "countUniqueDigits(0)"
   ]
  }
 ],
 "metadata": {
  "kernelspec": {
   "display_name": "Python 3",
   "language": "python",
   "name": "python3"
  },
  "language_info": {
   "codemirror_mode": {
    "name": "ipython",
    "version": 3
   },
   "file_extension": ".py",
   "mimetype": "text/x-python",
   "name": "python",
   "nbconvert_exporter": "python",
   "pygments_lexer": "ipython3",
   "version": "3.7.4"
  }
 },
 "nbformat": 4,
 "nbformat_minor": 2
}
